{
 "cells": [
  {
   "cell_type": "code",
   "execution_count": 98,
   "metadata": {},
   "outputs": [],
   "source": [
    "import numpy as np\n",
    "from collections import defaultdict"
   ]
  },
  {
   "cell_type": "code",
   "execution_count": 99,
   "metadata": {},
   "outputs": [],
   "source": [
    "import pickle\n",
    "file=open('result.pkl','rb')\n",
    "train_x=pickle.load(file)\n",
    "train_y=pickle.load(file)\n",
    "test_x=pickle.load(file)\n",
    "test_y=pickle.load(file)\n",
    "#vocab=pickle.load(file)\n",
    "file.close()\n"
   ]
  },
  {
   "cell_type": "code",
   "execution_count": 100,
   "metadata": {},
   "outputs": [],
   "source": [
    "train_y_max = []\n",
    "train_y_mod = []\n",
    "\n",
    "test_y_max = []\n",
    "test_y_mod = []"
   ]
  },
  {
   "cell_type": "code",
   "execution_count": 101,
   "metadata": {},
   "outputs": [
    {
     "name": "stdout",
     "output_type": "stream",
     "text": [
      "252\n",
      "252\n",
      "61\n",
      "61\n"
     ]
    }
   ],
   "source": [
    "print(len(train_y))\n",
    "print(len(train_x))\n",
    "print(len(test_x))\n",
    "print(len(test_y))"
   ]
  },
  {
   "cell_type": "code",
   "execution_count": 102,
   "metadata": {},
   "outputs": [],
   "source": [
    "#print((type(str(train_y[0][0]))))"
   ]
  },
  {
   "cell_type": "code",
   "execution_count": 103,
   "metadata": {},
   "outputs": [],
   "source": [
    "for i in range(0,len(train_y)):\n",
    "    for j in range(0,len(train_y[i])):\n",
    "        train_y[i][j] = str(train_y[i][j])\n",
    "\n",
    "for i in range(0,len(test_y)):\n",
    "    for j in range(0,len(test_y[i])):\n",
    "        test_y[i][j] = str(test_y[i][j])        "
   ]
  },
  {
   "cell_type": "code",
   "execution_count": 104,
   "metadata": {},
   "outputs": [],
   "source": [
    "#print((type((train_y[0][32]))))"
   ]
  },
  {
   "cell_type": "code",
   "execution_count": 105,
   "metadata": {},
   "outputs": [
    {
     "name": "stdout",
     "output_type": "stream",
     "text": [
      "0\n",
      "1\n",
      "2\n",
      "3\n",
      "4\n",
      "5\n",
      "6\n",
      "7\n",
      "8\n",
      "9\n",
      "10\n",
      "11\n",
      "12\n",
      "13\n",
      "14\n",
      "15\n",
      "16\n",
      "17\n",
      "18\n",
      "19\n",
      "20\n",
      "21\n",
      "22\n",
      "23\n",
      "24\n",
      "25\n",
      "26\n",
      "27\n",
      "28\n",
      "29\n",
      "30\n",
      "31\n",
      "32\n",
      "33\n",
      "34\n",
      "35\n",
      "36\n",
      "37\n",
      "38\n",
      "39\n",
      "40\n",
      "41\n",
      "42\n",
      "43\n",
      "44\n",
      "45\n",
      "46\n",
      "47\n",
      "48\n",
      "49\n",
      "50\n",
      "51\n",
      "52\n",
      "53\n",
      "54\n",
      "55\n",
      "56\n",
      "57\n",
      "58\n",
      "59\n",
      "60\n",
      "61\n",
      "62\n",
      "63\n",
      "64\n",
      "65\n",
      "66\n",
      "67\n",
      "68\n",
      "69\n",
      "70\n",
      "71\n",
      "72\n",
      "73\n",
      "74\n",
      "75\n",
      "76\n",
      "77\n",
      "78\n",
      "79\n",
      "80\n",
      "81\n",
      "82\n",
      "83\n",
      "84\n",
      "85\n",
      "86\n",
      "87\n",
      "88\n",
      "89\n",
      "90\n",
      "91\n",
      "92\n",
      "93\n",
      "94\n",
      "95\n",
      "96\n",
      "97\n",
      "98\n",
      "99\n",
      "100\n",
      "101\n",
      "102\n",
      "103\n",
      "104\n",
      "105\n",
      "106\n",
      "107\n",
      "108\n",
      "109\n",
      "110\n",
      "111\n",
      "112\n",
      "113\n",
      "114\n",
      "115\n",
      "116\n",
      "117\n",
      "118\n",
      "119\n",
      "120\n",
      "121\n",
      "122\n",
      "123\n",
      "124\n",
      "125\n",
      "126\n",
      "127\n",
      "128\n",
      "129\n",
      "130\n",
      "131\n",
      "132\n",
      "133\n",
      "134\n",
      "135\n",
      "136\n",
      "137\n",
      "138\n",
      "139\n",
      "140\n",
      "141\n",
      "142\n",
      "143\n",
      "144\n",
      "145\n",
      "146\n",
      "147\n",
      "148\n",
      "149\n",
      "150\n",
      "151\n",
      "152\n",
      "153\n",
      "154\n",
      "155\n",
      "156\n",
      "157\n",
      "158\n",
      "159\n",
      "160\n",
      "161\n",
      "162\n",
      "163\n",
      "164\n",
      "165\n",
      "166\n",
      "167\n",
      "168\n",
      "169\n",
      "170\n",
      "171\n",
      "172\n",
      "173\n",
      "174\n",
      "175\n",
      "176\n",
      "177\n",
      "178\n",
      "179\n",
      "180\n",
      "181\n",
      "182\n",
      "183\n",
      "184\n",
      "185\n",
      "186\n",
      "187\n",
      "188\n",
      "189\n",
      "190\n",
      "191\n",
      "192\n",
      "193\n",
      "194\n",
      "195\n",
      "196\n",
      "197\n",
      "198\n",
      "199\n",
      "200\n",
      "201\n",
      "202\n",
      "203\n",
      "204\n",
      "205\n",
      "206\n",
      "207\n",
      "208\n",
      "209\n",
      "210\n",
      "211\n",
      "212\n",
      "213\n",
      "214\n",
      "215\n",
      "216\n",
      "217\n",
      "218\n",
      "219\n",
      "220\n",
      "221\n",
      "222\n",
      "223\n",
      "224\n",
      "225\n",
      "226\n",
      "227\n",
      "228\n",
      "229\n",
      "230\n",
      "231\n",
      "232\n",
      "233\n",
      "234\n",
      "235\n",
      "236\n",
      "237\n",
      "238\n",
      "239\n",
      "240\n",
      "241\n",
      "242\n",
      "243\n",
      "244\n",
      "245\n",
      "246\n",
      "247\n",
      "248\n",
      "249\n",
      "250\n",
      "251\n",
      "0\n",
      "1\n",
      "2\n",
      "3\n",
      "4\n",
      "5\n",
      "6\n",
      "7\n",
      "8\n",
      "9\n",
      "10\n",
      "11\n",
      "12\n",
      "13\n",
      "14\n",
      "15\n",
      "16\n",
      "17\n",
      "18\n",
      "19\n",
      "20\n",
      "21\n",
      "22\n",
      "23\n",
      "24\n",
      "25\n",
      "26\n",
      "27\n",
      "28\n",
      "29\n",
      "30\n",
      "31\n",
      "32\n",
      "33\n",
      "34\n",
      "35\n",
      "36\n",
      "37\n",
      "38\n",
      "39\n",
      "40\n",
      "41\n",
      "42\n",
      "43\n",
      "44\n",
      "45\n",
      "46\n",
      "47\n",
      "48\n",
      "49\n",
      "50\n",
      "51\n",
      "52\n",
      "53\n",
      "54\n",
      "55\n",
      "56\n",
      "57\n",
      "58\n",
      "59\n",
      "60\n"
     ]
    }
   ],
   "source": [
    "# Finding event type with max frequency in a document in train_y\n",
    "for i in range(0,len(train_y)):#len(train_y)):\n",
    "    train_y_mod.append((list(filter(lambda a: a != \"None\", train_y[i]))))\n",
    "    print(i)\n",
    "    if(not train_y_mod[i]):\n",
    "        train_y_max.append(\"None\")\n",
    "    elif(train_y_mod[i]!=None):\n",
    "        #train_y_max.append(np.argmax(np.array(train_y_mod[i])))\n",
    "        train_y_max.append(max(train_y_mod[i],key = train_y_mod[i].count))\n",
    "\n",
    "# Now for test_y        \n",
    "for i in range(0,len(test_y)):#len(train_y)):\n",
    "    test_y_mod.append((list(filter(lambda a: a != \"None\", test_y[i]))))\n",
    "    print(i)\n",
    "    if(not test_y_mod[i]):\n",
    "        test_y_max.append(\"None\")\n",
    "    elif(test_y_mod[i]!=None):\n",
    "        #train_y_max.append(np.argmax(np.array(train_y_mod[i])))\n",
    "        test_y_max.append(max(test_y_mod[i],key = test_y_mod[i].count))        "
   ]
  },
  {
   "cell_type": "code",
   "execution_count": 106,
   "metadata": {},
   "outputs": [
    {
     "name": "stdout",
     "output_type": "stream",
     "text": [
      "True\n"
     ]
    }
   ],
   "source": [
    "print(not train_y_mod[140])"
   ]
  },
  {
   "cell_type": "code",
   "execution_count": 107,
   "metadata": {},
   "outputs": [
    {
     "name": "stdout",
     "output_type": "stream",
     "text": [
      "21\n"
     ]
    }
   ],
   "source": [
    "print(len(set(train_y_max)))"
   ]
  },
  {
   "cell_type": "code",
   "execution_count": 114,
   "metadata": {},
   "outputs": [
    {
     "name": "stdout",
     "output_type": "stream",
     "text": [
      "['TRAIN_COLLISION', 'AVALANCHES', 'HEAT_WAVE', 'FIRE', 'VEHICULAR_COLLISION', 'TERRORIST_ATTACK', 'RIOTS', 'CYCLONE', 'NORMAL_BOMBING', 'HAIL_STORMS', 'EARTHQUAKE', 'AVIATION_HAZARD', 'COLD_WAVE', 'STORM', 'BLIZZARD', 'None', 'FLOODS', 'TRANSPORT_HAZARDS', 'INDUSTRIAL_ACCIDENT', 'TORNADO', 'LAND_SLIDE']\n"
     ]
    }
   ],
   "source": [
    "labels = list(set(train_y_max))\n",
    "print(labels)"
   ]
  },
  {
   "cell_type": "code",
   "execution_count": 115,
   "metadata": {},
   "outputs": [
    {
     "name": "stdout",
     "output_type": "stream",
     "text": [
      "['HEAT_WAVE', 'HEAT_WAVE', 'HEAT_WAVE', 'HEAT_WAVE', 'HEAT_WAVE', 'HEAT_WAVE', 'HEAT_WAVE', 'HEAT_WAVE', 'AVALANCHES', 'COLD_WAVE', 'TRANSPORT_HAZARDS', 'INDUSTRIAL_ACCIDENT', 'VEHICULAR_COLLISION', 'TRAIN_COLLISION', 'RIOTS', 'TRANSPORT_HAZARDS', 'STORM', 'STORM', 'STORM', 'STORM', 'STORM', 'STORM', 'STORM', 'STORM', 'STORM', 'STORM', 'FLOODS', 'STORM', 'STORM', 'STORM', 'STORM', 'STORM', 'STORM', 'STORM', 'STORM', 'STORM', 'STORM', 'STORM', 'STORM', 'HAIL_STORMS', 'STORM', 'STORM', 'CYCLONE', 'STORM', 'STORM', 'STORM', 'STORM', 'TORNADO', 'LAND_SLIDE', 'FLOODS', 'STORM', 'STORM', 'STORM', 'CYCLONE', 'STORM', 'STORM', 'EARTHQUAKE', 'STORM', 'CYCLONE', 'CYCLONE', 'CYCLONE', 'CYCLONE', 'STORM', 'TERRORIST_ATTACK', 'TERRORIST_ATTACK', 'TERRORIST_ATTACK', 'TERRORIST_ATTACK', 'TERRORIST_ATTACK', 'TERRORIST_ATTACK', 'TERRORIST_ATTACK', 'TERRORIST_ATTACK', 'TERRORIST_ATTACK', 'TERRORIST_ATTACK', 'TERRORIST_ATTACK', 'TERRORIST_ATTACK', 'TERRORIST_ATTACK', 'TERRORIST_ATTACK', 'TORNADO', 'AVALANCHES', 'TERRORIST_ATTACK', 'TERRORIST_ATTACK', 'TERRORIST_ATTACK', 'TERRORIST_ATTACK', 'TERRORIST_ATTACK', 'FIRE', 'STORM', 'STORM', 'STORM', 'STORM', 'STORM', 'TERRORIST_ATTACK', 'TERRORIST_ATTACK', 'RIOTS', 'NORMAL_BOMBING', 'TERRORIST_ATTACK', 'TERRORIST_ATTACK', 'TERRORIST_ATTACK', 'TERRORIST_ATTACK', 'TERRORIST_ATTACK', 'TERRORIST_ATTACK', 'TERRORIST_ATTACK', 'TERRORIST_ATTACK', 'TERRORIST_ATTACK', 'TERRORIST_ATTACK', 'TERRORIST_ATTACK', 'TERRORIST_ATTACK', 'TERRORIST_ATTACK', 'TERRORIST_ATTACK', 'TERRORIST_ATTACK', 'TERRORIST_ATTACK', 'TERRORIST_ATTACK', 'TERRORIST_ATTACK', 'TERRORIST_ATTACK', 'TERRORIST_ATTACK', 'TERRORIST_ATTACK', 'TERRORIST_ATTACK', 'TERRORIST_ATTACK', 'TERRORIST_ATTACK', 'TERRORIST_ATTACK', 'TERRORIST_ATTACK', 'TERRORIST_ATTACK', 'TERRORIST_ATTACK', 'TERRORIST_ATTACK', 'TERRORIST_ATTACK', 'FIRE', 'VEHICULAR_COLLISION', 'BLIZZARD', 'INDUSTRIAL_ACCIDENT', 'FIRE', 'RIOTS', 'TERRORIST_ATTACK', 'TERRORIST_ATTACK', 'NORMAL_BOMBING', 'TERRORIST_ATTACK', 'TERRORIST_ATTACK', 'TERRORIST_ATTACK', 'TERRORIST_ATTACK', 'AVIATION_HAZARD', 'TERRORIST_ATTACK', 'TERRORIST_ATTACK', 'None', 'AVALANCHES', 'AVALANCHES', 'TRANSPORT_HAZARDS', 'INDUSTRIAL_ACCIDENT', 'AVIATION_HAZARD', 'TRANSPORT_HAZARDS', 'TRAIN_COLLISION', 'TRAIN_COLLISION', 'TRANSPORT_HAZARDS', 'TRANSPORT_HAZARDS', 'BLIZZARD', 'COLD_WAVE', 'RIOTS', 'TRANSPORT_HAZARDS', 'LAND_SLIDE', 'FIRE', 'FIRE', 'LAND_SLIDE', 'LAND_SLIDE', 'VEHICULAR_COLLISION', 'COLD_WAVE', 'FIRE', 'TRANSPORT_HAZARDS', 'FIRE', 'BLIZZARD', 'TORNADO', 'INDUSTRIAL_ACCIDENT', 'TRANSPORT_HAZARDS', 'TRAIN_COLLISION', 'FIRE', 'BLIZZARD', 'TORNADO', 'TERRORIST_ATTACK', 'TERRORIST_ATTACK', 'STORM', 'STORM', 'STORM', 'STORM', 'CYCLONE', 'EARTHQUAKE', 'STORM', 'CYCLONE', 'STORM', 'STORM', 'CYCLONE', 'STORM', 'STORM', 'STORM', 'STORM', 'STORM', 'EARTHQUAKE', 'STORM', 'STORM', 'STORM', 'STORM', 'EARTHQUAKE', 'EARTHQUAKE', 'STORM', 'STORM', 'STORM', 'STORM', 'STORM', 'STORM', 'STORM', 'NORMAL_BOMBING', 'STORM', 'STORM', 'STORM', 'STORM', 'STORM', 'STORM', 'STORM', 'STORM', 'STORM', 'STORM', 'STORM', 'STORM', 'TERRORIST_ATTACK', 'STORM', 'STORM', 'STORM', 'STORM', 'TRANSPORT_HAZARDS', 'CYCLONE', 'STORM', 'STORM', 'CYCLONE', 'STORM', 'STORM', 'STORM', 'EARTHQUAKE', 'STORM', 'STORM', 'EARTHQUAKE', 'STORM', 'EARTHQUAKE', 'None', 'EARTHQUAKE', 'LAND_SLIDE', 'TERRORIST_ATTACK', 'FIRE', 'INDUSTRIAL_ACCIDENT', 'TRANSPORT_HAZARDS', 'FLOODS', 'CYCLONE', 'TRANSPORT_HAZARDS', 'EARTHQUAKE', 'EARTHQUAKE', 'TERRORIST_ATTACK', 'STORM', 'STORM']\n"
     ]
    }
   ],
   "source": [
    "print(train_y_max)"
   ]
  },
  {
   "cell_type": "code",
   "execution_count": 122,
   "metadata": {},
   "outputs": [],
   "source": [
    "from sklearn.preprocessing import LabelEncoder\n",
    "le = LabelEncoder()\n",
    "le.fit(labels)\n",
    "y_labels = le.transform(train_y_max)"
   ]
  },
  {
   "cell_type": "code",
   "execution_count": 123,
   "metadata": {},
   "outputs": [
    {
     "name": "stdout",
     "output_type": "stream",
     "text": [
      "[ 9  9  9  9  9  9  9  9  0  3 19 10 20 18 14 19 15 15 15 15 15 15 15 15\n",
      " 15 15  7 15 15 15 15 15 15 15 15 15 15 15 15  8 15 15  4 15 15 15 15 17\n",
      " 11  7 15 15 15  4 15 15  5 15  4  4  4  4 15 16 16 16 16 16 16 16 16 16\n",
      " 16 16 16 16 16 17  0 16 16 16 16 16  6 15 15 15 15 15 16 16 14 12 16 16\n",
      " 16 16 16 16 16 16 16 16 16 16 16 16 16 16 16 16 16 16 16 16 16 16 16 16\n",
      " 16 16 16 16  6 20  2 10  6 14 16 16 12 16 16 16 16  1 16 16 13  0  0 19\n",
      " 10  1 19 18 18 19 19  2  3 14 19 11  6  6 11 11 20  3  6 19  6  2 17 10\n",
      " 19 18  6  2 17 16 16 15 15 15 15  4  5 15  4 15 15  4 15 15 15 15 15  5\n",
      " 15 15 15 15  5  5 15 15 15 15 15 15 15 12 15 15 15 15 15 15 15 15 15 15\n",
      " 15 15 16 15 15 15 15 19  4 15 15  4 15 15 15  5 15 15  5 15  5 13  5 11\n",
      " 16  6 10 19  7  4 19  5  5 16 15 15]\n"
     ]
    }
   ],
   "source": [
    "print(y_labels)"
   ]
  },
  {
   "cell_type": "code",
   "execution_count": 124,
   "metadata": {},
   "outputs": [],
   "source": [
    "import tensorflow as tf\n",
    "one_hot_labels = tf.keras.utils.to_categorical(y_labels)"
   ]
  },
  {
   "cell_type": "code",
   "execution_count": 128,
   "metadata": {},
   "outputs": [
    {
     "name": "stdout",
     "output_type": "stream",
     "text": [
      "(252, 21)\n"
     ]
    }
   ],
   "source": [
    "print(np.shape(one_hot_labels))"
   ]
  },
  {
   "cell_type": "code",
   "execution_count": 138,
   "metadata": {},
   "outputs": [
    {
     "name": "stdout",
     "output_type": "stream",
     "text": [
      "[0. 0. 0. 0. 0. 0. 0. 0. 0. 1. 0. 0. 0. 0. 0. 0. 0. 0. 0. 0. 0.]\n"
     ]
    }
   ],
   "source": [
    "print((one_hot_labels[0]))\n",
    "#print(list(one_hot_labels))"
   ]
  },
  {
   "cell_type": "code",
   "execution_count": 130,
   "metadata": {},
   "outputs": [
    {
     "name": "stdout",
     "output_type": "stream",
     "text": [
      "['HEAT_WAVE', 'HEAT_WAVE', 'HEAT_WAVE', 'HEAT_WAVE', 'HEAT_WAVE', 'HEAT_WAVE', 'HEAT_WAVE', 'HEAT_WAVE', 'AVALANCHES', 'COLD_WAVE', 'TRANSPORT_HAZARDS', 'INDUSTRIAL_ACCIDENT', 'VEHICULAR_COLLISION', 'TRAIN_COLLISION', 'RIOTS', 'TRANSPORT_HAZARDS', 'STORM', 'STORM', 'STORM', 'STORM', 'STORM', 'STORM', 'STORM', 'STORM', 'STORM', 'STORM', 'FLOODS', 'STORM', 'STORM', 'STORM', 'STORM', 'STORM', 'STORM', 'STORM', 'STORM', 'STORM', 'STORM', 'STORM', 'STORM', 'HAIL_STORMS', 'STORM', 'STORM', 'CYCLONE', 'STORM', 'STORM', 'STORM', 'STORM', 'TORNADO', 'LAND_SLIDE', 'FLOODS', 'STORM', 'STORM', 'STORM', 'CYCLONE', 'STORM', 'STORM', 'EARTHQUAKE', 'STORM', 'CYCLONE', 'CYCLONE', 'CYCLONE', 'CYCLONE', 'STORM', 'TERRORIST_ATTACK', 'TERRORIST_ATTACK', 'TERRORIST_ATTACK', 'TERRORIST_ATTACK', 'TERRORIST_ATTACK', 'TERRORIST_ATTACK', 'TERRORIST_ATTACK', 'TERRORIST_ATTACK', 'TERRORIST_ATTACK', 'TERRORIST_ATTACK', 'TERRORIST_ATTACK', 'TERRORIST_ATTACK', 'TERRORIST_ATTACK', 'TERRORIST_ATTACK', 'TORNADO', 'AVALANCHES', 'TERRORIST_ATTACK', 'TERRORIST_ATTACK', 'TERRORIST_ATTACK', 'TERRORIST_ATTACK', 'TERRORIST_ATTACK', 'FIRE', 'STORM', 'STORM', 'STORM', 'STORM', 'STORM', 'TERRORIST_ATTACK', 'TERRORIST_ATTACK', 'RIOTS', 'NORMAL_BOMBING', 'TERRORIST_ATTACK', 'TERRORIST_ATTACK', 'TERRORIST_ATTACK', 'TERRORIST_ATTACK', 'TERRORIST_ATTACK', 'TERRORIST_ATTACK', 'TERRORIST_ATTACK', 'TERRORIST_ATTACK', 'TERRORIST_ATTACK', 'TERRORIST_ATTACK', 'TERRORIST_ATTACK', 'TERRORIST_ATTACK', 'TERRORIST_ATTACK', 'TERRORIST_ATTACK', 'TERRORIST_ATTACK', 'TERRORIST_ATTACK', 'TERRORIST_ATTACK', 'TERRORIST_ATTACK', 'TERRORIST_ATTACK', 'TERRORIST_ATTACK', 'TERRORIST_ATTACK', 'TERRORIST_ATTACK', 'TERRORIST_ATTACK', 'TERRORIST_ATTACK', 'TERRORIST_ATTACK', 'TERRORIST_ATTACK', 'TERRORIST_ATTACK', 'TERRORIST_ATTACK', 'TERRORIST_ATTACK', 'TERRORIST_ATTACK', 'FIRE', 'VEHICULAR_COLLISION', 'BLIZZARD', 'INDUSTRIAL_ACCIDENT', 'FIRE', 'RIOTS', 'TERRORIST_ATTACK', 'TERRORIST_ATTACK', 'NORMAL_BOMBING', 'TERRORIST_ATTACK', 'TERRORIST_ATTACK', 'TERRORIST_ATTACK', 'TERRORIST_ATTACK', 'AVIATION_HAZARD', 'TERRORIST_ATTACK', 'TERRORIST_ATTACK', 'None', 'AVALANCHES', 'AVALANCHES', 'TRANSPORT_HAZARDS', 'INDUSTRIAL_ACCIDENT', 'AVIATION_HAZARD', 'TRANSPORT_HAZARDS', 'TRAIN_COLLISION', 'TRAIN_COLLISION', 'TRANSPORT_HAZARDS', 'TRANSPORT_HAZARDS', 'BLIZZARD', 'COLD_WAVE', 'RIOTS', 'TRANSPORT_HAZARDS', 'LAND_SLIDE', 'FIRE', 'FIRE', 'LAND_SLIDE', 'LAND_SLIDE', 'VEHICULAR_COLLISION', 'COLD_WAVE', 'FIRE', 'TRANSPORT_HAZARDS', 'FIRE', 'BLIZZARD', 'TORNADO', 'INDUSTRIAL_ACCIDENT', 'TRANSPORT_HAZARDS', 'TRAIN_COLLISION', 'FIRE', 'BLIZZARD', 'TORNADO', 'TERRORIST_ATTACK', 'TERRORIST_ATTACK', 'STORM', 'STORM', 'STORM', 'STORM', 'CYCLONE', 'EARTHQUAKE', 'STORM', 'CYCLONE', 'STORM', 'STORM', 'CYCLONE', 'STORM', 'STORM', 'STORM', 'STORM', 'STORM', 'EARTHQUAKE', 'STORM', 'STORM', 'STORM', 'STORM', 'EARTHQUAKE', 'EARTHQUAKE', 'STORM', 'STORM', 'STORM', 'STORM', 'STORM', 'STORM', 'STORM', 'NORMAL_BOMBING', 'STORM', 'STORM', 'STORM', 'STORM', 'STORM', 'STORM', 'STORM', 'STORM', 'STORM', 'STORM', 'STORM', 'STORM', 'TERRORIST_ATTACK', 'STORM', 'STORM', 'STORM', 'STORM', 'TRANSPORT_HAZARDS', 'CYCLONE', 'STORM', 'STORM', 'CYCLONE', 'STORM', 'STORM', 'STORM', 'EARTHQUAKE', 'STORM', 'STORM', 'EARTHQUAKE', 'STORM', 'EARTHQUAKE', 'None', 'EARTHQUAKE', 'LAND_SLIDE', 'TERRORIST_ATTACK', 'FIRE', 'INDUSTRIAL_ACCIDENT', 'TRANSPORT_HAZARDS', 'FLOODS', 'CYCLONE', 'TRANSPORT_HAZARDS', 'EARTHQUAKE', 'EARTHQUAKE', 'TERRORIST_ATTACK', 'STORM', 'STORM']\n"
     ]
    }
   ],
   "source": [
    "print(train_y_max)"
   ]
  },
  {
   "cell_type": "code",
   "execution_count": 133,
   "metadata": {},
   "outputs": [],
   "source": [
    "import csv\n",
    "with open('labels.csv', 'w') as csvfile:\n",
    "    wr = csv.writer(csvfile)\n",
    "    wr.writerow(train_y_max)\n",
    "    #wr.writerow(one_hot_labels)"
   ]
  },
  {
   "cell_type": "code",
   "execution_count": 140,
   "metadata": {},
   "outputs": [],
   "source": [
    "np.savetxt(\"one_hot.csv\", one_hot_labels, delimiter=\",\")"
   ]
  },
  {
   "cell_type": "code",
   "execution_count": null,
   "metadata": {},
   "outputs": [],
   "source": []
  }
 ],
 "metadata": {
  "kernelspec": {
   "display_name": "Python 3",
   "language": "python",
   "name": "python3"
  },
  "language_info": {
   "codemirror_mode": {
    "name": "ipython",
    "version": 3
   },
   "file_extension": ".py",
   "mimetype": "text/x-python",
   "name": "python",
   "nbconvert_exporter": "python",
   "pygments_lexer": "ipython3",
   "version": "3.5.2"
  }
 },
 "nbformat": 4,
 "nbformat_minor": 2
}
