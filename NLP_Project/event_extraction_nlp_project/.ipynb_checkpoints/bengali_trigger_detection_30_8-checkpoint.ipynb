{
 "cells": [
  {
   "cell_type": "code",
   "execution_count": 32,
   "metadata": {},
   "outputs": [
    {
     "ename": "TypeError",
     "evalue": "'protocol' is an invalid keyword argument for this function",
     "output_type": "error",
     "traceback": [
      "\u001b[0;31m---------------------------------------------------------------------------\u001b[0m",
      "\u001b[0;31mTypeError\u001b[0m                                 Traceback (most recent call last)",
      "\u001b[0;32m<ipython-input-32-e9c6cef2a400>\u001b[0m in \u001b[0;36m<module>\u001b[0;34m()\u001b[0m\n\u001b[1;32m      2\u001b[0m \u001b[0;31m#import bengali_word_list\u001b[0m\u001b[0;34m\u001b[0m\u001b[0;34m\u001b[0m\u001b[0m\n\u001b[1;32m      3\u001b[0m \u001b[0;32mimport\u001b[0m \u001b[0mpickle\u001b[0m\u001b[0;34m\u001b[0m\u001b[0m\n\u001b[0;32m----> 4\u001b[0;31m \u001b[0mfile\u001b[0m\u001b[0;34m=\u001b[0m\u001b[0mopen\u001b[0m\u001b[0;34m(\u001b[0m\u001b[0;34m'../result.pkl'\u001b[0m\u001b[0;34m,\u001b[0m\u001b[0;34m'rb'\u001b[0m\u001b[0;34m,\u001b[0m\u001b[0mprotocol\u001b[0m\u001b[0;34m=\u001b[0m\u001b[0;36m2\u001b[0m\u001b[0;34m)\u001b[0m\u001b[0;34m\u001b[0m\u001b[0m\n\u001b[0m\u001b[1;32m      5\u001b[0m \u001b[0mtrain_x\u001b[0m\u001b[0;34m=\u001b[0m\u001b[0mpickle\u001b[0m\u001b[0;34m.\u001b[0m\u001b[0mload\u001b[0m\u001b[0;34m(\u001b[0m\u001b[0mfile\u001b[0m\u001b[0;34m)\u001b[0m\u001b[0;34m\u001b[0m\u001b[0m\n\u001b[1;32m      6\u001b[0m \u001b[0mtrain_y\u001b[0m\u001b[0;34m=\u001b[0m\u001b[0mpickle\u001b[0m\u001b[0;34m.\u001b[0m\u001b[0mload\u001b[0m\u001b[0;34m(\u001b[0m\u001b[0mfile\u001b[0m\u001b[0;34m)\u001b[0m\u001b[0;34m\u001b[0m\u001b[0m\n",
      "\u001b[0;31mTypeError\u001b[0m: 'protocol' is an invalid keyword argument for this function"
     ]
    }
   ],
   "source": [
    "#extract sentences and their corresponding trigger tag list from pickle files\n",
    "#import bengali_word_list\n",
    "import pickle\n",
    "file=open('../result.pkl','rb')\n",
    "train_x=pickle.load(file)\n",
    "train_y=pickle.load(file)\n",
    "test_x=pickle.load(file)\n",
    "test_y=pickle.load(file)\n",
    "vocab=pickle.load(file)\n",
    "file.close()"
   ]
  },
  {
   "cell_type": "code",
   "execution_count": 2,
   "metadata": {},
   "outputs": [
    {
     "ename": "NameError",
     "evalue": "name 'train_y' is not defined",
     "output_type": "error",
     "traceback": [
      "\u001b[0;31m---------------------------------------------------------------------------\u001b[0m",
      "\u001b[0;31mNameError\u001b[0m                                 Traceback (most recent call last)",
      "\u001b[0;32m<ipython-input-2-3df1338ccbbe>\u001b[0m in \u001b[0;36m<module>\u001b[0;34m()\u001b[0m\n\u001b[0;32m----> 1\u001b[0;31m \u001b[0;32mprint\u001b[0m\u001b[0;34m(\u001b[0m\u001b[0mtrain_y\u001b[0m\u001b[0;34m[\u001b[0m\u001b[0;36m0\u001b[0m\u001b[0;34m]\u001b[0m\u001b[0;34m)\u001b[0m\u001b[0;34m\u001b[0m\u001b[0m\n\u001b[0m\u001b[1;32m      2\u001b[0m \u001b[0;32mprint\u001b[0m\u001b[0;34m(\u001b[0m\u001b[0mtrain_x\u001b[0m\u001b[0;34m[\u001b[0m\u001b[0;36m1\u001b[0m\u001b[0;34m]\u001b[0m\u001b[0;34m)\u001b[0m\u001b[0;34m\u001b[0m\u001b[0m\n",
      "\u001b[0;31mNameError\u001b[0m: name 'train_y' is not defined"
     ]
    }
   ],
   "source": [
    "print(train_y[0])\n",
    "print(train_x[1])"
   ]
  },
  {
   "cell_type": "code",
   "execution_count": 3,
   "metadata": {},
   "outputs": [
    {
     "ename": "NameError",
     "evalue": "name 'test_y' is not defined",
     "output_type": "error",
     "traceback": [
      "\u001b[0;31m---------------------------------------------------------------------------\u001b[0m",
      "\u001b[0;31mNameError\u001b[0m                                 Traceback (most recent call last)",
      "\u001b[0;32m<ipython-input-3-428c9cc69f11>\u001b[0m in \u001b[0;36m<module>\u001b[0;34m()\u001b[0m\n\u001b[1;32m      1\u001b[0m \u001b[0mc\u001b[0m\u001b[0;34m=\u001b[0m\u001b[0;36m0\u001b[0m\u001b[0;34m\u001b[0m\u001b[0m\n\u001b[0;32m----> 2\u001b[0;31m \u001b[0;32mfor\u001b[0m \u001b[0mtag\u001b[0m \u001b[0;32min\u001b[0m \u001b[0mtest_y\u001b[0m\u001b[0;34m:\u001b[0m\u001b[0;34m\u001b[0m\u001b[0m\n\u001b[0m\u001b[1;32m      3\u001b[0m     \u001b[0;32mif\u001b[0m \u001b[0mstr\u001b[0m\u001b[0;34m(\u001b[0m\u001b[0mtag\u001b[0m\u001b[0;34m)\u001b[0m\u001b[0;34m!=\u001b[0m\u001b[0;34m'None'\u001b[0m\u001b[0;34m:\u001b[0m\u001b[0;34m\u001b[0m\u001b[0m\n\u001b[1;32m      4\u001b[0m         \u001b[0mc\u001b[0m\u001b[0;34m+=\u001b[0m\u001b[0;36m1\u001b[0m\u001b[0;34m\u001b[0m\u001b[0m\n\u001b[1;32m      5\u001b[0m \u001b[0;32mprint\u001b[0m\u001b[0;34m(\u001b[0m\u001b[0mc\u001b[0m\u001b[0;34m)\u001b[0m\u001b[0;34m\u001b[0m\u001b[0m\n",
      "\u001b[0;31mNameError\u001b[0m: name 'test_y' is not defined"
     ]
    }
   ],
   "source": [
    "c=0\n",
    "for tag in test_y:\n",
    "    if str(tag)!='None':\n",
    "        c+=1\n",
    "print(c)"
   ]
  },
  {
   "cell_type": "code",
   "execution_count": 4,
   "metadata": {},
   "outputs": [
    {
     "ename": "NameError",
     "evalue": "name 'vocab' is not defined",
     "output_type": "error",
     "traceback": [
      "\u001b[0;31m---------------------------------------------------------------------------\u001b[0m",
      "\u001b[0;31mNameError\u001b[0m                                 Traceback (most recent call last)",
      "\u001b[0;32m<ipython-input-4-1740a01f93df>\u001b[0m in \u001b[0;36m<module>\u001b[0;34m()\u001b[0m\n\u001b[0;32m----> 1\u001b[0;31m \u001b[0;32mprint\u001b[0m\u001b[0;34m(\u001b[0m\u001b[0mlen\u001b[0m\u001b[0;34m(\u001b[0m\u001b[0mvocab\u001b[0m\u001b[0;34m)\u001b[0m\u001b[0;34m)\u001b[0m\u001b[0;34m\u001b[0m\u001b[0m\n\u001b[0m",
      "\u001b[0;31mNameError\u001b[0m: name 'vocab' is not defined"
     ]
    }
   ],
   "source": [
    "print(len(vocab))"
   ]
  },
  {
   "cell_type": "code",
   "execution_count": 5,
   "metadata": {},
   "outputs": [
    {
     "ename": "IOError",
     "evalue": "[Errno 2] No such file or directory: '../work_space/august_last/bengali_pickle_latest/bengali_word_vector_22_8'",
     "output_type": "error",
     "traceback": [
      "\u001b[0;31m---------------------------------------------------------------------------\u001b[0m",
      "\u001b[0;31mIOError\u001b[0m                                   Traceback (most recent call last)",
      "\u001b[0;32m<ipython-input-5-1d8b79be0cf3>\u001b[0m in \u001b[0;36m<module>\u001b[0;34m()\u001b[0m\n\u001b[1;32m      1\u001b[0m \u001b[0mglove_vocab\u001b[0m\u001b[0;34m=\u001b[0m\u001b[0;34m[\u001b[0m\u001b[0;34m]\u001b[0m\u001b[0;34m\u001b[0m\u001b[0m\n\u001b[1;32m      2\u001b[0m \u001b[0membedding_vector_list\u001b[0m \u001b[0;34m=\u001b[0m \u001b[0;34m[\u001b[0m\u001b[0;34m]\u001b[0m\u001b[0;34m\u001b[0m\u001b[0m\n\u001b[0;32m----> 3\u001b[0;31m \u001b[0mfile\u001b[0m \u001b[0;34m=\u001b[0m \u001b[0mopen\u001b[0m\u001b[0;34m(\u001b[0m\u001b[0;34m'../work_space/august_last/bengali_pickle_latest/bengali_word_vector_22_8'\u001b[0m\u001b[0;34m,\u001b[0m\u001b[0;34m'r'\u001b[0m\u001b[0;34m)\u001b[0m\u001b[0;31m#extract word vectors from fastext\u001b[0m\u001b[0;34m\u001b[0m\u001b[0m\n\u001b[0m\u001b[1;32m      4\u001b[0m \u001b[0;32mfor\u001b[0m \u001b[0mline\u001b[0m \u001b[0;32min\u001b[0m \u001b[0mfile\u001b[0m\u001b[0;34m.\u001b[0m\u001b[0mreadlines\u001b[0m\u001b[0;34m(\u001b[0m\u001b[0;34m)\u001b[0m\u001b[0;34m:\u001b[0m\u001b[0;34m\u001b[0m\u001b[0m\n\u001b[1;32m      5\u001b[0m     \u001b[0mrow\u001b[0m \u001b[0;34m=\u001b[0m \u001b[0mline\u001b[0m\u001b[0;34m.\u001b[0m\u001b[0mstrip\u001b[0m\u001b[0;34m(\u001b[0m\u001b[0;34m)\u001b[0m\u001b[0;34m.\u001b[0m\u001b[0msplit\u001b[0m\u001b[0;34m(\u001b[0m\u001b[0;34m' '\u001b[0m\u001b[0;34m)\u001b[0m\u001b[0;34m\u001b[0m\u001b[0m\n",
      "\u001b[0;31mIOError\u001b[0m: [Errno 2] No such file or directory: '../work_space/august_last/bengali_pickle_latest/bengali_word_vector_22_8'"
     ]
    }
   ],
   "source": [
    "glove_vocab=[]\n",
    "embedding_vector_list = []\n",
    "file = open('../work_space/august_last/bengali_pickle_latest/bengali_word_vector_22_8','r')#extract word vectors from fastext\n",
    "for line in file.readlines():\n",
    "    row = line.strip().split(' ')\n",
    "    vocab_word = row[0]\n",
    "    glove_vocab.append(vocab_word)\n",
    "    embed_vector = [float(i) for i in row[1:]] # convert to list of float\n",
    "    embedding_vector_list.append(embed_vector)\n",
    "file.close()"
   ]
  },
  {
   "cell_type": "code",
   "execution_count": 6,
   "metadata": {},
   "outputs": [
    {
     "data": {
      "text/plain": [
       "0"
      ]
     },
     "execution_count": 6,
     "metadata": {},
     "output_type": "execute_result"
    }
   ],
   "source": [
    "len(embedding_vector_list)"
   ]
  },
  {
   "cell_type": "code",
   "execution_count": 7,
   "metadata": {},
   "outputs": [],
   "source": [
    "import numpy as np\n",
    "embedding_matrix = np.asarray(embedding_vector_list)"
   ]
  },
  {
   "cell_type": "code",
   "execution_count": 8,
   "metadata": {},
   "outputs": [
    {
     "data": {
      "text/plain": [
       "(0,)"
      ]
     },
     "execution_count": 8,
     "metadata": {},
     "output_type": "execute_result"
    }
   ],
   "source": [
    "embedding_matrix.shape"
   ]
  },
  {
   "cell_type": "code",
   "execution_count": 9,
   "metadata": {},
   "outputs": [
    {
     "ename": "NameError",
     "evalue": "name 'train_x' is not defined",
     "output_type": "error",
     "traceback": [
      "\u001b[0;31m---------------------------------------------------------------------------\u001b[0m",
      "\u001b[0;31mNameError\u001b[0m                                 Traceback (most recent call last)",
      "\u001b[0;32m<ipython-input-9-3ee0e90705c6>\u001b[0m in \u001b[0;36m<module>\u001b[0;34m()\u001b[0m\n\u001b[1;32m      3\u001b[0m \u001b[0mtest_data_x\u001b[0m\u001b[0;34m=\u001b[0m\u001b[0;34m[\u001b[0m\u001b[0;34m]\u001b[0m\u001b[0;34m\u001b[0m\u001b[0m\n\u001b[1;32m      4\u001b[0m \u001b[0mtest_data_y\u001b[0m\u001b[0;34m=\u001b[0m\u001b[0;34m[\u001b[0m\u001b[0;34m]\u001b[0m\u001b[0;34m\u001b[0m\u001b[0m\n\u001b[0;32m----> 5\u001b[0;31m \u001b[0mtrain_data_x\u001b[0m\u001b[0;34m=\u001b[0m \u001b[0mtrain_x\u001b[0m\u001b[0;34m\u001b[0m\u001b[0m\n\u001b[0m\u001b[1;32m      6\u001b[0m \u001b[0mtrain_data_y\u001b[0m\u001b[0;34m=\u001b[0m \u001b[0mtrain_y\u001b[0m\u001b[0;34m\u001b[0m\u001b[0m\n\u001b[1;32m      7\u001b[0m \u001b[0mtest_data_x\u001b[0m\u001b[0;34m=\u001b[0m \u001b[0mtest_x\u001b[0m\u001b[0;34m\u001b[0m\u001b[0m\n",
      "\u001b[0;31mNameError\u001b[0m: name 'train_x' is not defined"
     ]
    }
   ],
   "source": [
    "train_data_x=[]\n",
    "train_data_y=[]\n",
    "test_data_x=[]\n",
    "test_data_y=[]\n",
    "train_data_x= train_x\n",
    "train_data_y= train_y\n",
    "test_data_x= test_x\n",
    "test_data_y= test_y"
   ]
  },
  {
   "cell_type": "code",
   "execution_count": 10,
   "metadata": {},
   "outputs": [
    {
     "ename": "IndexError",
     "evalue": "list index out of range",
     "output_type": "error",
     "traceback": [
      "\u001b[0;31m---------------------------------------------------------------------------\u001b[0m",
      "\u001b[0;31mIndexError\u001b[0m                                Traceback (most recent call last)",
      "\u001b[0;32m<ipython-input-10-79681599e465>\u001b[0m in \u001b[0;36m<module>\u001b[0;34m()\u001b[0m\n\u001b[0;32m----> 1\u001b[0;31m \u001b[0mtrain_data_x\u001b[0m\u001b[0;34m[\u001b[0m\u001b[0;36m1000\u001b[0m\u001b[0;34m]\u001b[0m\u001b[0;34m\u001b[0m\u001b[0m\n\u001b[0m",
      "\u001b[0;31mIndexError\u001b[0m: list index out of range"
     ]
    }
   ],
   "source": [
    "train_data_x[1000]"
   ]
  },
  {
   "cell_type": "code",
   "execution_count": 11,
   "metadata": {},
   "outputs": [
    {
     "ename": "NameError",
     "evalue": "name 'test_y' is not defined",
     "output_type": "error",
     "traceback": [
      "\u001b[0;31m---------------------------------------------------------------------------\u001b[0m",
      "\u001b[0;31mNameError\u001b[0m                                 Traceback (most recent call last)",
      "\u001b[0;32m<ipython-input-11-7b75e50db880>\u001b[0m in \u001b[0;36m<module>\u001b[0;34m()\u001b[0m\n\u001b[0;32m----> 1\u001b[0;31m \u001b[0mlen\u001b[0m\u001b[0;34m(\u001b[0m\u001b[0mtest_y\u001b[0m\u001b[0;34m)\u001b[0m\u001b[0;34m\u001b[0m\u001b[0m\n\u001b[0m",
      "\u001b[0;31mNameError\u001b[0m: name 'test_y' is not defined"
     ]
    }
   ],
   "source": [
    "len(test_y)"
   ]
  },
  {
   "cell_type": "code",
   "execution_count": 12,
   "metadata": {},
   "outputs": [
    {
     "ename": "NameError",
     "evalue": "name 'train_y' is not defined",
     "output_type": "error",
     "traceback": [
      "\u001b[0;31m---------------------------------------------------------------------------\u001b[0m",
      "\u001b[0;31mNameError\u001b[0m                                 Traceback (most recent call last)",
      "\u001b[0;32m<ipython-input-12-6aee81b532f5>\u001b[0m in \u001b[0;36m<module>\u001b[0;34m()\u001b[0m\n\u001b[0;32m----> 1\u001b[0;31m \u001b[0my_total\u001b[0m\u001b[0;34m=\u001b[0m\u001b[0mtrain_y\u001b[0m\u001b[0;34m+\u001b[0m\u001b[0mtest_y\u001b[0m\u001b[0;34m\u001b[0m\u001b[0m\n\u001b[0m",
      "\u001b[0;31mNameError\u001b[0m: name 'train_y' is not defined"
     ]
    }
   ],
   "source": [
    "y_total=train_y+test_y"
   ]
  },
  {
   "cell_type": "code",
   "execution_count": 13,
   "metadata": {},
   "outputs": [
    {
     "ename": "NameError",
     "evalue": "name 'y_total' is not defined",
     "output_type": "error",
     "traceback": [
      "\u001b[0;31m---------------------------------------------------------------------------\u001b[0m",
      "\u001b[0;31mNameError\u001b[0m                                 Traceback (most recent call last)",
      "\u001b[0;32m<ipython-input-13-33942f8fe13d>\u001b[0m in \u001b[0;36m<module>\u001b[0;34m()\u001b[0m\n\u001b[0;32m----> 1\u001b[0;31m \u001b[0;32mprint\u001b[0m\u001b[0;34m(\u001b[0m\u001b[0mlen\u001b[0m\u001b[0;34m(\u001b[0m\u001b[0my_total\u001b[0m\u001b[0;34m)\u001b[0m\u001b[0;34m)\u001b[0m\u001b[0;34m\u001b[0m\u001b[0m\n\u001b[0m",
      "\u001b[0;31mNameError\u001b[0m: name 'y_total' is not defined"
     ]
    }
   ],
   "source": [
    "print(len(y_total))"
   ]
  },
  {
   "cell_type": "code",
   "execution_count": 14,
   "metadata": {},
   "outputs": [
    {
     "ename": "NameError",
     "evalue": "name 'y_total' is not defined",
     "output_type": "error",
     "traceback": [
      "\u001b[0;31m---------------------------------------------------------------------------\u001b[0m",
      "\u001b[0;31mNameError\u001b[0m                                 Traceback (most recent call last)",
      "\u001b[0;32m<ipython-input-14-c9eab50a116e>\u001b[0m in \u001b[0;36m<module>\u001b[0;34m()\u001b[0m\n\u001b[1;32m      2\u001b[0m \u001b[0;34m\u001b[0m\u001b[0m\n\u001b[1;32m      3\u001b[0m \u001b[0muniq_event_type\u001b[0m\u001b[0;34m=\u001b[0m\u001b[0;34m[\u001b[0m\u001b[0;34m]\u001b[0m\u001b[0;34m\u001b[0m\u001b[0m\n\u001b[0;32m----> 4\u001b[0;31m \u001b[0;32mfor\u001b[0m \u001b[0mk\u001b[0m \u001b[0;32min\u001b[0m \u001b[0mrange\u001b[0m\u001b[0;34m(\u001b[0m\u001b[0mlen\u001b[0m\u001b[0;34m(\u001b[0m\u001b[0my_total\u001b[0m\u001b[0;34m)\u001b[0m\u001b[0;34m)\u001b[0m\u001b[0;34m:\u001b[0m\u001b[0;34m\u001b[0m\u001b[0m\n\u001b[0m\u001b[1;32m      5\u001b[0m     \u001b[0;32mif\u001b[0m \u001b[0my_total\u001b[0m\u001b[0;34m[\u001b[0m\u001b[0mk\u001b[0m\u001b[0;34m]\u001b[0m \u001b[0;32mnot\u001b[0m \u001b[0;32min\u001b[0m \u001b[0muniq_event_type\u001b[0m\u001b[0;34m:\u001b[0m\u001b[0;34m\u001b[0m\u001b[0m\n\u001b[1;32m      6\u001b[0m         \u001b[0muniq_event_type\u001b[0m\u001b[0;34m.\u001b[0m\u001b[0mappend\u001b[0m\u001b[0;34m(\u001b[0m\u001b[0my_total\u001b[0m\u001b[0;34m[\u001b[0m\u001b[0mk\u001b[0m\u001b[0;34m]\u001b[0m\u001b[0;34m)\u001b[0m\u001b[0;34m\u001b[0m\u001b[0m\n",
      "\u001b[0;31mNameError\u001b[0m: name 'y_total' is not defined"
     ]
    }
   ],
   "source": [
    "#checking unique event types\n",
    "\n",
    "uniq_event_type=[]\n",
    "for k in range(len(y_total)):\n",
    "    if y_total[k] not in uniq_event_type:\n",
    "        uniq_event_type.append(y_total[k])"
   ]
  },
  {
   "cell_type": "code",
   "execution_count": 15,
   "metadata": {},
   "outputs": [
    {
     "name": "stdout",
     "output_type": "stream",
     "text": [
      "0\n",
      "[]\n"
     ]
    }
   ],
   "source": [
    "print(len(uniq_event_type))\n",
    "print(uniq_event_type)"
   ]
  },
  {
   "cell_type": "code",
   "execution_count": 16,
   "metadata": {},
   "outputs": [],
   "source": [
    "#uniq_event_type[0]=0#to avoide None"
   ]
  },
  {
   "cell_type": "code",
   "execution_count": 17,
   "metadata": {},
   "outputs": [],
   "source": [
    "#train event types are transformed to numeric value\n",
    "\n",
    "k=0\n",
    "train_data_y_numeric=[]\n",
    "for k in range(len(train_data_y)):\n",
    "    train_data_y_numeric.append(uniq_event_type.index(train_data_y[k]))"
   ]
  },
  {
   "cell_type": "code",
   "execution_count": 18,
   "metadata": {},
   "outputs": [
    {
     "data": {
      "text/plain": [
       "'\\nk=0\\ntest_data_y_numeric=[]\\nfor k in range(len(test_data_y)):\\n    test_data_y_numeric.append(uniq_event_type.index(test_data_y[k]))\\n'"
      ]
     },
     "execution_count": 18,
     "metadata": {},
     "output_type": "execute_result"
    }
   ],
   "source": [
    "#test event types are transformed to numeric value\n",
    "'''\n",
    "k=0\n",
    "test_data_y_numeric=[]\n",
    "for k in range(len(test_data_y)):\n",
    "    test_data_y_numeric.append(uniq_event_type.index(test_data_y[k]))\n",
    "'''"
   ]
  },
  {
   "cell_type": "code",
   "execution_count": 19,
   "metadata": {},
   "outputs": [],
   "source": [
    "import numpy as np\n",
    "y_hot_train=[]\n",
    "for y_ in train_data_y_numeric:\n",
    "    y_hot_train.append(np.eye(len(uniq_event_type))[y_])"
   ]
  },
  {
   "cell_type": "code",
   "execution_count": 20,
   "metadata": {},
   "outputs": [
    {
     "ename": "IOError",
     "evalue": "[Errno 2] No such file or directory: '../work_space/august_last/bengali_pickle_latest/word_list.pkl'",
     "output_type": "error",
     "traceback": [
      "\u001b[0;31m---------------------------------------------------------------------------\u001b[0m",
      "\u001b[0;31mIOError\u001b[0m                                   Traceback (most recent call last)",
      "\u001b[0;32m<ipython-input-20-a1e18c45b846>\u001b[0m in \u001b[0;36m<module>\u001b[0;34m()\u001b[0m\n\u001b[0;32m----> 1\u001b[0;31m \u001b[0mfile\u001b[0m\u001b[0;34m=\u001b[0m\u001b[0mopen\u001b[0m\u001b[0;34m(\u001b[0m\u001b[0;34m'../work_space/august_last/bengali_pickle_latest/word_list.pkl'\u001b[0m\u001b[0;34m,\u001b[0m\u001b[0;34m'rb'\u001b[0m\u001b[0;34m)\u001b[0m\u001b[0;34m\u001b[0m\u001b[0m\n\u001b[0m\u001b[1;32m      2\u001b[0m \u001b[0mword_list_train\u001b[0m\u001b[0;34m=\u001b[0m\u001b[0mpickle\u001b[0m\u001b[0;34m.\u001b[0m\u001b[0mload\u001b[0m\u001b[0;34m(\u001b[0m\u001b[0mfile\u001b[0m\u001b[0;34m)\u001b[0m\u001b[0;34m\u001b[0m\u001b[0m\n\u001b[1;32m      3\u001b[0m \u001b[0mword_list_test\u001b[0m\u001b[0;34m=\u001b[0m\u001b[0mpickle\u001b[0m\u001b[0;34m.\u001b[0m\u001b[0mload\u001b[0m\u001b[0;34m(\u001b[0m\u001b[0mfile\u001b[0m\u001b[0;34m)\u001b[0m\u001b[0;34m\u001b[0m\u001b[0m\n\u001b[1;32m      4\u001b[0m \u001b[0mfile\u001b[0m\u001b[0;34m.\u001b[0m\u001b[0mclose\u001b[0m\u001b[0;34m(\u001b[0m\u001b[0;34m)\u001b[0m\u001b[0;34m\u001b[0m\u001b[0m\n",
      "\u001b[0;31mIOError\u001b[0m: [Errno 2] No such file or directory: '../work_space/august_last/bengali_pickle_latest/word_list.pkl'"
     ]
    }
   ],
   "source": [
    "file=open('../work_space/august_last/bengali_pickle_latest/word_list.pkl','rb')\n",
    "word_list_train=pickle.load(file)\n",
    "word_list_test=pickle.load(file)\n",
    "file.close()"
   ]
  },
  {
   "cell_type": "code",
   "execution_count": 21,
   "metadata": {},
   "outputs": [
    {
     "ename": "NameError",
     "evalue": "name 'word_list_train' is not defined",
     "output_type": "error",
     "traceback": [
      "\u001b[0;31m---------------------------------------------------------------------------\u001b[0m",
      "\u001b[0;31mNameError\u001b[0m                                 Traceback (most recent call last)",
      "\u001b[0;32m<ipython-input-21-535f380051e5>\u001b[0m in \u001b[0;36m<module>\u001b[0;34m()\u001b[0m\n\u001b[0;32m----> 1\u001b[0;31m \u001b[0;32mprint\u001b[0m\u001b[0;34m(\u001b[0m\u001b[0mlen\u001b[0m\u001b[0;34m(\u001b[0m\u001b[0mword_list_train\u001b[0m\u001b[0;34m)\u001b[0m\u001b[0;34m)\u001b[0m\u001b[0;34m\u001b[0m\u001b[0m\n\u001b[0m\u001b[1;32m      2\u001b[0m \u001b[0;32mprint\u001b[0m\u001b[0;34m(\u001b[0m\u001b[0mlen\u001b[0m\u001b[0;34m(\u001b[0m\u001b[0mword_list_test\u001b[0m\u001b[0;34m)\u001b[0m\u001b[0;34m)\u001b[0m\u001b[0;34m\u001b[0m\u001b[0m\n",
      "\u001b[0;31mNameError\u001b[0m: name 'word_list_train' is not defined"
     ]
    }
   ],
   "source": [
    "print(len(word_list_train))\n",
    "print(len(word_list_test))"
   ]
  },
  {
   "cell_type": "code",
   "execution_count": 22,
   "metadata": {},
   "outputs": [],
   "source": [
    "x_train=train_data_x\n",
    "y_train=y_hot_train\n",
    "#x_test=test_data_x\n",
    "#y_test=y_hot_test\n",
    "#y_test_actual=test_data_y_numeric\n",
    "#x_dev=train_data_x[210000:]\n",
    "#y_dev=y_hot_train[210000:]\n"
   ]
  },
  {
   "cell_type": "code",
   "execution_count": 23,
   "metadata": {},
   "outputs": [
    {
     "ename": "ImportError",
     "evalue": "No module named tensorflow",
     "output_type": "error",
     "traceback": [
      "\u001b[0;31m---------------------------------------------------------------------------\u001b[0m",
      "\u001b[0;31mImportError\u001b[0m                               Traceback (most recent call last)",
      "\u001b[0;32m<ipython-input-23-b0c17d11fdec>\u001b[0m in \u001b[0;36m<module>\u001b[0;34m()\u001b[0m\n\u001b[0;32m----> 1\u001b[0;31m \u001b[0;32mimport\u001b[0m \u001b[0mtensorflow\u001b[0m \u001b[0;32mas\u001b[0m \u001b[0mtf\u001b[0m\u001b[0;34m\u001b[0m\u001b[0m\n\u001b[0m\u001b[1;32m      2\u001b[0m \u001b[0msess\u001b[0m \u001b[0;34m=\u001b[0m \u001b[0mtf\u001b[0m\u001b[0;34m.\u001b[0m\u001b[0mInteractiveSession\u001b[0m\u001b[0;34m(\u001b[0m\u001b[0;34m)\u001b[0m\u001b[0;34m\u001b[0m\u001b[0m\n\u001b[1;32m      3\u001b[0m \u001b[0;34m\u001b[0m\u001b[0m\n\u001b[1;32m      4\u001b[0m \u001b[0minput_length\u001b[0m\u001b[0;34m=\u001b[0m\u001b[0;36m9\u001b[0m\u001b[0;34m\u001b[0m\u001b[0m\n\u001b[1;32m      5\u001b[0m \u001b[0membed_length\u001b[0m\u001b[0;34m=\u001b[0m\u001b[0;36m300\u001b[0m\u001b[0;34m\u001b[0m\u001b[0m\n",
      "\u001b[0;31mImportError\u001b[0m: No module named tensorflow"
     ]
    }
   ],
   "source": [
    "import tensorflow as tf\n",
    "sess = tf.InteractiveSession()\n",
    "\n",
    "input_length=9\n",
    "embed_length=300\n",
    "no_class=len(uniq_event_type)\n",
    "no_hidden=200\n",
    "learning_rate=0.001\n",
    "tf.reset_default_graph()\n",
    "x=tf.placeholder(tf.int32,[None,input_length])\n",
    "print(x)\n",
    "y=tf.placeholder(tf.int32,[None,no_class])\n",
    "print(y)\n",
    "\n",
    "w=tf.Variable(tf.random_normal([2*no_hidden,no_class],stddev=0.35,name='weight_out'),trainable=True)\n",
    "print(w)\n",
    "#w_embedding=tf.Variable(tf.random_normal([len(vocab),embed_length],stddev=0.35,name='weight_embed'),trainable=True)\n",
    "#print(w_embedding)\n",
    "#number_of_layers=3\n",
    "\n",
    "with tf.name_scope(\"embedding\"):\n",
    "    w_embedding = tf.Variable(tf.constant(0.0, shape=[len(vocab), embed_length]), trainable=True, name=\"w_embedding\")\n",
    "    embedding_placeholder = tf.placeholder(tf.float32, [len(vocab), embed_length])\n",
    "    embedding_init = w_embedding.assign(embedding_placeholder)\n",
    "    embedded_chars = tf.nn.embedding_lookup(w_embedding,x)\n",
    "\n",
    "#embedded_chars = tf.nn.embedding_lookup(w_embedding,x)\n",
    "\n",
    "x_rnn=tf.transpose(embedded_chars,[1,0,2])\n",
    "x_rnn_shape=tf.reshape(x_rnn,[-1,embed_length])\n",
    "x_shape_rnn=tf.split(x_rnn_shape,input_length,0)\n",
    "print(x_shape_rnn)\n",
    "\n",
    "x_shape_conv=tf.reshape(embedded_chars,[-1,input_length,embed_length,1])\n",
    "print(x_shape_conv)\n",
    "\n",
    "filter_size1=2\n",
    "filter_size2=3\n",
    "filter_size3=4\n",
    "no_of_filter=200\n",
    "\n",
    "def create_wt(shape):\n",
    "    return tf.Variable(tf.truncated_normal(shape, stddev=0.05))\n",
    "\n",
    "def create_bt(size):\n",
    "    return tf.Variable(tf.constant(0.05, shape=[size]))\n",
    "\n",
    "def create_conv(ip, no_of_filter, conv_filter_size, no_of_channel):\n",
    "    wt = create_wt(shape=[conv_filter_size,embed_length,1,no_of_filter])\n",
    "    b = create_bt(size = no_of_filter)\n",
    "    layer = tf.nn.conv2d(input = ip, filter= wt, strides =[1,1,1,1], padding='VALID')\n",
    "    layer_conv=tf.nn.relu(layer+b)\n",
    "    layer=tf.nn.max_pool(value= layer_conv, ksize= [1,input_length-conv_filter_size+1,1,1],strides=[1,1,1,1],padding='VALID' )\n",
    "    layer = tf.layers.dropout(layer, rate=0.5, training=True)\n",
    "    print(layer)\n",
    "    return layer\n",
    "\n",
    "def create_flatten_layer(layer):\n",
    "    layer=tf.reshape(layer,[-1,no_of_filter*3])\n",
    "    return layer\n",
    "\n",
    "def create_fc_layer(ip, no_input, no_output):\n",
    "    w_fc= create_wt(shape=[no_input,no_output,])\n",
    "    b_fc= create_bt(no_output)\n",
    "    layer=tf.matmul(ip,w_fc)+b_fc\n",
    "    return(layer)\n",
    "\n",
    "\n",
    "def multirnn(x):\n",
    "    \n",
    "    #embedded_chars = tf.nn.embedding_lookup(w_embedding,x)\n",
    "    #print(embedded_chars)\n",
    "    #x_unstack = tf.unstack(embedded_chars,input_length, 1)\n",
    "    #print(x_unstack)\n",
    "    #x = tf.unstack(x, window_size, 1)\n",
    "    #cell = tf.contrib.rnn.BasicLSTMCell(no_hidden)\n",
    "    #x=tf.transpose(embedded_chars,[1,0,2])\n",
    "    #x=tf.reshape(x,[-1,embed_length])\n",
    "    #x=tf.split(x,input_length,0)\n",
    "    #print(x)\n",
    "    lstm_f_cell=tf.contrib.rnn.BasicLSTMCell(no_hidden,forget_bias=1.0)\n",
    "    lstm_f_cell_d=tf.nn.rnn_cell.DropoutWrapper(lstm_f_cell, output_keep_prob=0.5)\n",
    "    lstm_b_cell=tf.contrib.rnn.BasicLSTMCell(no_hidden,forget_bias=1.0)\n",
    "    lstm_b_cell_d=tf.nn.rnn_cell.DropoutWrapper(lstm_b_cell, output_keep_prob=0.5)\n",
    "    outputs, _, _=tf.contrib.rnn.static_bidirectional_rnn(lstm_f_cell_d,lstm_b_cell_d,x,dtype=tf.float32)\n",
    "    #print('output')\n",
    "    #print(outputs[4])\n",
    "    #outputs, _, _=tf.contrib.rnn.static_bidirectional_rnn(fw_cell,bw_cell,x_unstack,dtype=tf.float32)\n",
    "    #cell=tf.contrib.rnn.MultiRNNCell([cell] * number_of_layers)\n",
    "    #cell = tf.nn.rnn_cell.DropoutWrapper(cell, output_keep_prob=dropout)\n",
    "    #outputs, _ =  tf.contrib.rnn.static_rnn(cell, x, dtype=tf.float32)\n",
    "    #outputs, _, _=tf.contrib.rnn.stack_bidirectional_rnn(fw_cell, bw_cell, x, dtype=tf.float32)\n",
    "    #print('output size')\n",
    "    #print(outputs[4])\n",
    "    logit= [tf.matmul(output,w) for output in outputs]\n",
    "    #print(logit[4])\n",
    "    return(outputs[4])\n",
    "\n",
    "output_filter1= create_conv(ip= x_shape_conv, no_of_filter= 200, conv_filter_size= filter_size1, no_of_channel=1)\n",
    "#print(output_filter1)\n",
    "output_filter2= create_conv(ip= x_shape_conv, no_of_filter= 200, conv_filter_size= filter_size2, no_of_channel=1)\n",
    "#print(output_filter2)\n",
    "output_filter3= create_conv(ip= x_shape_conv, no_of_filter= 200, conv_filter_size= filter_size3, no_of_channel=1)\n",
    "#print(output_filter3)\n",
    "final_vector= tf.concat([output_filter1,output_filter2,output_filter3],0)\n",
    "print(final_vector)\n",
    "output_conv_layer=tf.reshape(final_vector,[-1,no_of_filter*3])\n",
    "print(output_conv_layer)\n",
    "\n",
    "output_lstm_layer=multirnn(x_shape_rnn)\n",
    "print(output_lstm_layer)\n",
    "output_concat= tf.concat([output_conv_layer, output_lstm_layer],1)\n",
    "print(output_concat)\n",
    "\n",
    "layer_fc=create_fc_layer(output_concat, no_input = 1000, no_output =len(uniq_event_type))\n",
    "print(layer_fc)\n",
    "cost=tf.reduce_mean(tf.nn.softmax_cross_entropy_with_logits_v2(labels=y,logits=layer_fc))#cost calculation\n",
    "train=tf.train.AdamOptimizer(learning_rate=learning_rate).minimize(cost)\n",
    "y_pred= tf.nn.softmax(layer_fc, name='y_pred')\n",
    "print(y_pred)\n",
    "correct_prediction=tf.equal(tf.argmax(y_pred,1),tf.argmax(y,1))\n",
    "accuracy=tf.reduce_mean(tf.cast(correct_prediction,tf.float32))\n",
    "\n",
    "predicted_class=tf.argmax(y_pred,1)\n",
    "print(predicted_class)\n",
    "saver = tf.train.Saver()\n",
    "\n",
    "init = tf.global_variables_initializer()"
   ]
  },
  {
   "cell_type": "code",
   "execution_count": 24,
   "metadata": {},
   "outputs": [
    {
     "ename": "NameError",
     "evalue": "name 'tf' is not defined",
     "output_type": "error",
     "traceback": [
      "\u001b[0;31m---------------------------------------------------------------------------\u001b[0m",
      "\u001b[0;31mNameError\u001b[0m                                 Traceback (most recent call last)",
      "\u001b[0;32m<ipython-input-24-1c8e0d0a76e3>\u001b[0m in \u001b[0;36m<module>\u001b[0;34m()\u001b[0m\n\u001b[1;32m      1\u001b[0m \u001b[0mMODEL_PATH\u001b[0m \u001b[0;34m=\u001b[0m \u001b[0;34m'../work_space/august_last/bengali_pickle_latest/bengali_trigger_model_30_1.ckpt'\u001b[0m\u001b[0;34m\u001b[0m\u001b[0m\n\u001b[0;32m----> 2\u001b[0;31m \u001b[0msaver\u001b[0m \u001b[0;34m=\u001b[0m \u001b[0mtf\u001b[0m\u001b[0;34m.\u001b[0m\u001b[0mtrain\u001b[0m\u001b[0;34m.\u001b[0m\u001b[0mSaver\u001b[0m\u001b[0;34m(\u001b[0m\u001b[0;34m)\u001b[0m\u001b[0;34m\u001b[0m\u001b[0m\n\u001b[0m\u001b[1;32m      3\u001b[0m \u001b[0;34m\u001b[0m\u001b[0m\n\u001b[1;32m      4\u001b[0m \u001b[0;32mwith\u001b[0m \u001b[0mtf\u001b[0m\u001b[0;34m.\u001b[0m\u001b[0mSession\u001b[0m\u001b[0;34m(\u001b[0m\u001b[0;34m)\u001b[0m \u001b[0;32mas\u001b[0m \u001b[0msess\u001b[0m\u001b[0;34m:\u001b[0m\u001b[0;34m\u001b[0m\u001b[0m\n\u001b[1;32m      5\u001b[0m     \u001b[0msess\u001b[0m\u001b[0;34m.\u001b[0m\u001b[0mrun\u001b[0m\u001b[0;34m(\u001b[0m\u001b[0minit\u001b[0m\u001b[0;34m)\u001b[0m\u001b[0;34m\u001b[0m\u001b[0m\n",
      "\u001b[0;31mNameError\u001b[0m: name 'tf' is not defined"
     ]
    }
   ],
   "source": [
    "MODEL_PATH = '../work_space/august_last/bengali_pickle_latest/bengali_trigger_model_30_1.ckpt'\n",
    "saver = tf.train.Saver()\n",
    "\n",
    "with tf.Session() as sess:\n",
    "    sess.run(init)\n",
    "    sess.run(embedding_init, feed_dict={embedding_placeholder: embedding_matrix})\n",
    " \n",
    "    batch_size=1000\n",
    "    #no_of_batch= int(len(x_train)/batch_size)\n",
    "    epoch=20\n",
    "    for r in range(epoch):\n",
    "        ptr=1\n",
    "        bs=0\n",
    "        while ptr*batch_size < len(x_train):\n",
    "            ip,op=x_train[bs:bs+batch_size],y_train[bs:bs+batch_size]\n",
    "            #ip_v, op_v= x_dev[:2*batch_size], y_dev[:2*batch_size]\n",
    "            bs+=batch_size\n",
    "            ip=np.reshape(ip,[batch_size,input_length])\n",
    "            op=np.reshape(op,[batch_size,no_class])\n",
    "            ptr+=1\n",
    "            sess.run(train,feed_dict={x:ip,y:op})\n",
    "        print(sess.run(cost,feed_dict={x:ip,y:op}))\n",
    "        #print(sess.run(accuracy,feed_dict={x:ip_v,y:op_v}))\n",
    "\n",
    "    saver.save(sess, MODEL_PATH)"
   ]
  },
  {
   "cell_type": "code",
   "execution_count": 25,
   "metadata": {},
   "outputs": [
    {
     "ename": "ImportError",
     "evalue": "No module named tensorflow",
     "output_type": "error",
     "traceback": [
      "\u001b[0;31m---------------------------------------------------------------------------\u001b[0m",
      "\u001b[0;31mImportError\u001b[0m                               Traceback (most recent call last)",
      "\u001b[0;32m<ipython-input-25-308bdc08b782>\u001b[0m in \u001b[0;36m<module>\u001b[0;34m()\u001b[0m\n\u001b[1;32m      1\u001b[0m \u001b[0;31m#MODEL_PATH = '../work_space/august_last/bengali_pickle_latest/bengali_trigger_model_30_1.ckpt'\u001b[0m\u001b[0;34m\u001b[0m\u001b[0;34m\u001b[0m\u001b[0m\n\u001b[0;32m----> 2\u001b[0;31m \u001b[0;32mimport\u001b[0m \u001b[0mtensorflow\u001b[0m \u001b[0;32mas\u001b[0m \u001b[0mtf\u001b[0m\u001b[0;34m\u001b[0m\u001b[0m\n\u001b[0m\u001b[1;32m      3\u001b[0m \u001b[0;32mimport\u001b[0m \u001b[0mpickle\u001b[0m\u001b[0;34m\u001b[0m\u001b[0m\n\u001b[1;32m      4\u001b[0m \u001b[0;32mimport\u001b[0m \u001b[0mnumpy\u001b[0m \u001b[0;32mas\u001b[0m \u001b[0mnp\u001b[0m\u001b[0;34m\u001b[0m\u001b[0m\n\u001b[1;32m      5\u001b[0m \u001b[0;32mimport\u001b[0m \u001b[0mmath\u001b[0m\u001b[0;34m\u001b[0m\u001b[0m\n",
      "\u001b[0;31mImportError\u001b[0m: No module named tensorflow"
     ]
    }
   ],
   "source": [
    "#MODEL_PATH = '../work_space/august_last/bengali_pickle_latest/bengali_trigger_model_30_1.ckpt'\n",
    "import tensorflow as tf\n",
    "import pickle\n",
    "import numpy as np\n",
    "import math\n",
    "import os\n",
    "import sys\n",
    "reload(sys)\n",
    "sys.setdefaultencoding('utf8')\n",
    "\n",
    "#tf.reset_default_graph()\n",
    "\n",
    "\n",
    "output_path='../work_space/august_last/bengali_pickle_latest/test_trigger_output_31_8/'\n",
    "path='../work_space/august_last/bengali_pickle_latest/test_fixed_window_pikle'\n",
    "\n",
    "saver = tf.train.Saver()\n",
    "with tf.Session() as sess:\n",
    "    saver.restore(sess, MODEL_PATH)\n",
    "    for filename  in os.listdir(path):\n",
    "        fullPath = os.path.join(path, filename)\n",
    "        if os.path.isfile(fullPath):\n",
    "            test_file=open(fullPath,'rb')\n",
    "            test_x=pickle.load(test_file)\n",
    "            test_y=pickle.load(test_file)\n",
    "            test_z=pickle.load(test_file)\n",
    "            word_list=pickle.load(test_file)\n",
    "            x_test=test_x\n",
    "            y_test=test_y\n",
    "            acc=0\n",
    "            ptr=1\n",
    "            bs=0\n",
    "            #test_window_size=len(x_test)\n",
    "            #test_x=np.reshape(x_test,[batch_size,test_window_size,embed_length])\n",
    "            #test_y=np.reshape(y_test,[batch_size,test_window_size,no_class])\n",
    "            #acc=sess.run(accuracy,feed_dict={x:test_x,y:test_y})\n",
    "            tagset=[]\n",
    "            batch_size=1\n",
    "            n_batch = int(math.ceil(len(x_test) / batch_size))\n",
    "            print(n_batch)\n",
    "            while ptr <= n_batch:\n",
    "                if ptr*batch_size < len(x_test):\n",
    "                    ip,op=x_test[bs:bs+batch_size],y_test[bs:bs+batch_size]\n",
    "                else:\n",
    "                    ip,op=x_test[bs:],y_test[bs:]\n",
    "                bs+=batch_size\n",
    "                ip=np.reshape(ip,[batch_size,input_length])\n",
    "                #op=np.reshape(op,[batch_size,no_class])\n",
    "                ptr+=1\n",
    "                pred=sess.run(predicted_class,feed_dict={x:ip})\n",
    "                for p1 in pred:\n",
    "                    tagset.append(p1)\n",
    "                    #print 'p1 = ', p1\n",
    "                    #for p2 in p1:\n",
    "                    #print 'p2 = ', np.asarray(softmax(p2))\n",
    "               \n",
    "                #acc+=sess.run(accuracy,feed_dict={x:ip,y:op})\n",
    "            #print (acc/ptr), len(tagset)\n",
    "            #print(tagset)\n",
    "            f_out=open(output_path+filename.replace('pkl','txt'),'w+')\n",
    "            t=0\n",
    "            while t<len(tagset):\n",
    "                f_out.write(str(vocab[x_test[t][4]])+'   '+str(str(y_test[t])+' '+str(uniq_event_type[tagset[t]])+'\\n'))\n",
    "                t+=1\n",
    "            f_out.close()"
   ]
  },
  {
   "cell_type": "code",
   "execution_count": 26,
   "metadata": {},
   "outputs": [],
   "source": [
    "uniq_event_list=[]\n",
    "for tag in uniq_event_type:\n",
    "    tag1=str(tag)\n",
    "    if tag1 not in uniq_event_list:\n",
    "        uniq_event_list.append(tag1)"
   ]
  },
  {
   "cell_type": "code",
   "execution_count": 27,
   "metadata": {},
   "outputs": [
    {
     "ename": "OSError",
     "evalue": "[Errno 2] No such file or directory: '../work_space/august_last/bengali_pickle_latest/test_trigger_output_31_8/'",
     "output_type": "error",
     "traceback": [
      "\u001b[0;31m---------------------------------------------------------------------------\u001b[0m",
      "\u001b[0;31mOSError\u001b[0m                                   Traceback (most recent call last)",
      "\u001b[0;32m<ipython-input-27-d98c077874f7>\u001b[0m in \u001b[0;36m<module>\u001b[0;34m()\u001b[0m\n\u001b[1;32m      3\u001b[0m \u001b[0mtotal_tag_trigger_predicted\u001b[0m\u001b[0;34m=\u001b[0m\u001b[0;34m[\u001b[0m\u001b[0;34m]\u001b[0m\u001b[0;34m\u001b[0m\u001b[0m\n\u001b[1;32m      4\u001b[0m \u001b[0mpath\u001b[0m\u001b[0;34m=\u001b[0m\u001b[0;34m'../work_space/august_last/bengali_pickle_latest/test_trigger_output_31_8/'\u001b[0m\u001b[0;34m\u001b[0m\u001b[0m\n\u001b[0;32m----> 5\u001b[0;31m \u001b[0;32mfor\u001b[0m \u001b[0mfilename\u001b[0m  \u001b[0;32min\u001b[0m \u001b[0mos\u001b[0m\u001b[0;34m.\u001b[0m\u001b[0mlistdir\u001b[0m\u001b[0;34m(\u001b[0m\u001b[0mpath\u001b[0m\u001b[0;34m)\u001b[0m\u001b[0;34m:\u001b[0m\u001b[0;34m\u001b[0m\u001b[0m\n\u001b[0m\u001b[1;32m      6\u001b[0m     \u001b[0mfullPath\u001b[0m \u001b[0;34m=\u001b[0m \u001b[0mos\u001b[0m\u001b[0;34m.\u001b[0m\u001b[0mpath\u001b[0m\u001b[0;34m.\u001b[0m\u001b[0mjoin\u001b[0m\u001b[0;34m(\u001b[0m\u001b[0mpath\u001b[0m\u001b[0;34m,\u001b[0m \u001b[0mfilename\u001b[0m\u001b[0;34m)\u001b[0m\u001b[0;34m\u001b[0m\u001b[0m\n\u001b[1;32m      7\u001b[0m     \u001b[0;32mif\u001b[0m \u001b[0mos\u001b[0m\u001b[0;34m.\u001b[0m\u001b[0mpath\u001b[0m\u001b[0;34m.\u001b[0m\u001b[0misfile\u001b[0m\u001b[0;34m(\u001b[0m\u001b[0mfullPath\u001b[0m\u001b[0;34m)\u001b[0m\u001b[0;34m:\u001b[0m\u001b[0;34m\u001b[0m\u001b[0m\n",
      "\u001b[0;31mOSError\u001b[0m: [Errno 2] No such file or directory: '../work_space/august_last/bengali_pickle_latest/test_trigger_output_31_8/'"
     ]
    }
   ],
   "source": [
    "import os\n",
    "total_tag_trigger_actual=[]\n",
    "total_tag_trigger_predicted=[]\n",
    "path='../work_space/august_last/bengali_pickle_latest/test_trigger_output_31_8/'\n",
    "for filename  in os.listdir(path):\n",
    "    fullPath = os.path.join(path, filename)\n",
    "    if os.path.isfile(fullPath):\n",
    "        actual_tag=[]\n",
    "        predicted_tag=[]\n",
    "        f1=open(fullPath,'r')\n",
    "        for line in f1:\n",
    "            a=line.split()\n",
    "            actual_tag.append(str(a[1]))\n",
    "            predicted_tag.append(str(a[2]))\n",
    "        total_tag_trigger_actual=total_tag_trigger_actual + actual_tag\n",
    "        total_tag_trigger_predicted=total_tag_trigger_predicted + predicted_tag\n",
    "        f1.close()\n",
    "        \n",
    "total_predicted_trigger_list=[]\n",
    "for k in total_tag_trigger_predicted:\n",
    "    if k=='0':\n",
    "        total_predicted_trigger_list.append('None')\n",
    "    else:\n",
    "        total_predicted_trigger_list.append(k)"
   ]
  },
  {
   "cell_type": "code",
   "execution_count": 28,
   "metadata": {},
   "outputs": [
    {
     "ename": "IOError",
     "evalue": "[Errno 2] No such file or directory: '../work_space/august_last/bengali_pickle_latest/test_trigger_output_31_8/result_analysis.txt'",
     "output_type": "error",
     "traceback": [
      "\u001b[0;31m---------------------------------------------------------------------------\u001b[0m",
      "\u001b[0;31mIOError\u001b[0m                                   Traceback (most recent call last)",
      "\u001b[0;32m<ipython-input-28-c31e0897e155>\u001b[0m in \u001b[0;36m<module>\u001b[0;34m()\u001b[0m\n\u001b[0;32m----> 1\u001b[0;31m \u001b[0mf_result\u001b[0m\u001b[0;34m=\u001b[0m\u001b[0mopen\u001b[0m\u001b[0;34m(\u001b[0m\u001b[0;34m'../work_space/august_last/bengali_pickle_latest/test_trigger_output_31_8/result_analysis.txt'\u001b[0m\u001b[0;34m,\u001b[0m\u001b[0;34m'w+'\u001b[0m\u001b[0;34m)\u001b[0m\u001b[0;34m\u001b[0m\u001b[0m\n\u001b[0m\u001b[1;32m      2\u001b[0m \u001b[0;32mfor\u001b[0m \u001b[0mk\u001b[0m \u001b[0;32min\u001b[0m \u001b[0muniq_event_list\u001b[0m\u001b[0;34m:\u001b[0m\u001b[0;34m\u001b[0m\u001b[0m\n\u001b[1;32m      3\u001b[0m     \u001b[0mi\u001b[0m\u001b[0;34m=\u001b[0m\u001b[0;36m0\u001b[0m\u001b[0;34m\u001b[0m\u001b[0m\n\u001b[1;32m      4\u001b[0m     \u001b[0mtp\u001b[0m\u001b[0;34m=\u001b[0m\u001b[0;36m0\u001b[0m\u001b[0;34m\u001b[0m\u001b[0m\n\u001b[1;32m      5\u001b[0m     \u001b[0mtotal_count\u001b[0m\u001b[0;34m=\u001b[0m\u001b[0;36m0\u001b[0m\u001b[0;34m\u001b[0m\u001b[0m\n",
      "\u001b[0;31mIOError\u001b[0m: [Errno 2] No such file or directory: '../work_space/august_last/bengali_pickle_latest/test_trigger_output_31_8/result_analysis.txt'"
     ]
    }
   ],
   "source": [
    "f_result=open('../work_space/august_last/bengali_pickle_latest/test_trigger_output_31_8/result_analysis.txt','w+')\n",
    "for k in uniq_event_list:\n",
    "    i=0\n",
    "    tp=0\n",
    "    total_count=0\n",
    "    for i in range(len(total_tag_trigger_actual)):\n",
    "        if total_tag_trigger_actual[i]==k:\n",
    "            total_count+=1\n",
    "            if total_predicted_trigger_list[i]==k:\n",
    "                tp+=1\n",
    "    fp=0\n",
    "    i=0\n",
    "    for i in range(len(total_tag_trigger_actual)):\n",
    "        if total_predicted_trigger_list[i]==k:\n",
    "            if total_tag_trigger_actual[i]!=k:\n",
    "                fp+=1\n",
    "    fn=0\n",
    "    i=0\n",
    "    for i in range(len(total_tag_trigger_predicted)):\n",
    "        if total_predicted_trigger_list[i]!=k:\n",
    "            if total_tag_trigger_actual[i]==k:\n",
    "                fn+=1\n",
    "    f_result.write(k+' '+'TP='+str(tp)+' '+' FP='+str(fp)+' '+' FN='+str(fn)+'\\n')\n",
    "f_result.close()"
   ]
  },
  {
   "cell_type": "code",
   "execution_count": null,
   "metadata": {},
   "outputs": [],
   "source": []
  }
 ],
 "metadata": {
  "kernelspec": {
   "display_name": "Python 2",
   "language": "python",
   "name": "python2"
  },
  "language_info": {
   "codemirror_mode": {
    "name": "ipython",
    "version": 2
   },
   "file_extension": ".py",
   "mimetype": "text/x-python",
   "name": "python",
   "nbconvert_exporter": "python",
   "pygments_lexer": "ipython2",
   "version": "2.7.12"
  }
 },
 "nbformat": 4,
 "nbformat_minor": 2
}
